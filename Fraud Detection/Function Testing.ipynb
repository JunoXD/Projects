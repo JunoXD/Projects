{
 "cells": [
  {
   "cell_type": "code",
   "execution_count": 1,
   "metadata": {},
   "outputs": [],
   "source": [
    "from fraudfunc import fdr_score, fdr_summary, randomized_search, grid_search\n",
    "import pandas as pd\n",
    "from sklearn.linear_model import LogisticRegression\n",
    "from sklearn.ensemble import RandomForestClassifier\n",
    "import warnings\n",
    "warnings.filterwarnings('ignore')"
   ]
  },
  {
   "cell_type": "code",
   "execution_count": 2,
   "metadata": {},
   "outputs": [],
   "source": [
    "mod = pd.read_csv('modeling_data.csv')\n",
    "oot = pd.read_csv('oot_data.csv')"
   ]
  },
  {
   "cell_type": "code",
   "execution_count": 3,
   "metadata": {},
   "outputs": [
    {
     "name": "stdout",
     "output_type": "stream",
     "text": [
      "mod: (80632, 27)\n",
      "oot: (12427, 27)\n"
     ]
    }
   ],
   "source": [
    "print('mod:',mod.shape)\n",
    "print('oot:',oot.shape)"
   ]
  },
  {
   "cell_type": "code",
   "execution_count": 4,
   "metadata": {},
   "outputs": [],
   "source": [
    "X_mod=mod.iloc[:,:-1]\n",
    "y_mod=mod.iloc[:,-1]\n",
    "X_oot=oot.iloc[:,:-1]\n",
    "y_oot=oot.iloc[:,-1]"
   ]
  },
  {
   "cell_type": "code",
   "execution_count": 5,
   "metadata": {},
   "outputs": [
    {
     "name": "stdout",
     "output_type": "stream",
     "text": [
      "mod fraud: 868\n",
      "oot fraud: 179\n"
     ]
    }
   ],
   "source": [
    "print('mod fraud:',sum(y_mod))\n",
    "print('oot fraud:',sum(y_oot))"
   ]
  },
  {
   "cell_type": "code",
   "execution_count": 6,
   "metadata": {},
   "outputs": [
    {
     "data": {
      "text/plain": [
       "LogisticRegression(C=1.0, class_weight=None, dual=False, fit_intercept=True,\n",
       "                   intercept_scaling=1, l1_ratio=None, max_iter=100,\n",
       "                   multi_class='auto', n_jobs=None, penalty='l2',\n",
       "                   random_state=None, solver='lbfgs', tol=0.0001, verbose=0,\n",
       "                   warm_start=False)"
      ]
     },
     "execution_count": 6,
     "metadata": {},
     "output_type": "execute_result"
    }
   ],
   "source": [
    "lr = LogisticRegression()\n",
    "lr.fit(X_mod,y_mod)"
   ]
  },
  {
   "cell_type": "code",
   "execution_count": 7,
   "metadata": {},
   "outputs": [
    {
     "name": "stdout",
     "output_type": "stream",
     "text": [
      "0.7004608294930875\n",
      "0.441340782122905\n"
     ]
    }
   ],
   "source": [
    "y_mod_pred_prob=lr.predict_proba(X_mod)[:,1]\n",
    "y_oot_pred_prob=lr.predict_proba(X_oot)[:,1]\n",
    "print(fdr_score(y_mod_pred_prob,y_mod))\n",
    "print(fdr_score(y_oot_pred_prob,y_oot))"
   ]
  },
  {
   "cell_type": "code",
   "execution_count": 8,
   "metadata": {},
   "outputs": [
    {
     "data": {
      "text/html": [
       "<div>\n",
       "<style scoped>\n",
       "    .dataframe tbody tr th:only-of-type {\n",
       "        vertical-align: middle;\n",
       "    }\n",
       "\n",
       "    .dataframe tbody tr th {\n",
       "        vertical-align: top;\n",
       "    }\n",
       "\n",
       "    .dataframe thead th {\n",
       "        text-align: right;\n",
       "    }\n",
       "</style>\n",
       "<table border=\"1\" class=\"dataframe\">\n",
       "  <thead>\n",
       "    <tr style=\"text-align: right;\">\n",
       "      <th></th>\n",
       "      <th>trn</th>\n",
       "      <th>tst</th>\n",
       "      <th>oot</th>\n",
       "    </tr>\n",
       "  </thead>\n",
       "  <tbody>\n",
       "    <tr>\n",
       "      <th>1</th>\n",
       "      <td>1.000000</td>\n",
       "      <td>0.896154</td>\n",
       "      <td>0.586592</td>\n",
       "    </tr>\n",
       "    <tr>\n",
       "      <th>2</th>\n",
       "      <td>0.998355</td>\n",
       "      <td>0.896154</td>\n",
       "      <td>0.569832</td>\n",
       "    </tr>\n",
       "    <tr>\n",
       "      <th>3</th>\n",
       "      <td>1.000000</td>\n",
       "      <td>0.903846</td>\n",
       "      <td>0.670391</td>\n",
       "    </tr>\n",
       "    <tr>\n",
       "      <th>4</th>\n",
       "      <td>1.000000</td>\n",
       "      <td>0.919231</td>\n",
       "      <td>0.636872</td>\n",
       "    </tr>\n",
       "    <tr>\n",
       "      <th>5</th>\n",
       "      <td>0.998355</td>\n",
       "      <td>0.919231</td>\n",
       "      <td>0.636872</td>\n",
       "    </tr>\n",
       "    <tr>\n",
       "      <th>6</th>\n",
       "      <td>1.000000</td>\n",
       "      <td>0.853846</td>\n",
       "      <td>0.603352</td>\n",
       "    </tr>\n",
       "    <tr>\n",
       "      <th>7</th>\n",
       "      <td>1.000000</td>\n",
       "      <td>0.915385</td>\n",
       "      <td>0.620112</td>\n",
       "    </tr>\n",
       "    <tr>\n",
       "      <th>8</th>\n",
       "      <td>0.998355</td>\n",
       "      <td>0.915385</td>\n",
       "      <td>0.541899</td>\n",
       "    </tr>\n",
       "    <tr>\n",
       "      <th>9</th>\n",
       "      <td>1.000000</td>\n",
       "      <td>0.911538</td>\n",
       "      <td>0.575419</td>\n",
       "    </tr>\n",
       "    <tr>\n",
       "      <th>10</th>\n",
       "      <td>1.000000</td>\n",
       "      <td>0.884615</td>\n",
       "      <td>0.636872</td>\n",
       "    </tr>\n",
       "    <tr>\n",
       "      <th>mean</th>\n",
       "      <td>0.999507</td>\n",
       "      <td>0.901538</td>\n",
       "      <td>0.607821</td>\n",
       "    </tr>\n",
       "  </tbody>\n",
       "</table>\n",
       "</div>"
      ],
      "text/plain": [
       "           trn       tst       oot\n",
       "1     1.000000  0.896154  0.586592\n",
       "2     0.998355  0.896154  0.569832\n",
       "3     1.000000  0.903846  0.670391\n",
       "4     1.000000  0.919231  0.636872\n",
       "5     0.998355  0.919231  0.636872\n",
       "6     1.000000  0.853846  0.603352\n",
       "7     1.000000  0.915385  0.620112\n",
       "8     0.998355  0.915385  0.541899\n",
       "9     1.000000  0.911538  0.575419\n",
       "10    1.000000  0.884615  0.636872\n",
       "mean  0.999507  0.901538  0.607821"
      ]
     },
     "execution_count": 8,
     "metadata": {},
     "output_type": "execute_result"
    }
   ],
   "source": [
    "rf=RandomForestClassifier(n_estimators=10)\n",
    "summary=fdr_summary(rf, X_mod, y_mod, X_oot, y_oot)\n",
    "summary"
   ]
  },
  {
   "cell_type": "code",
   "execution_count": 18,
   "metadata": {},
   "outputs": [],
   "source": [
    "from sklearn.utils import resample\n",
    "import numpy as np"
   ]
  },
  {
   "cell_type": "code",
   "execution_count": 9,
   "metadata": {},
   "outputs": [],
   "source": [
    "test_grid = {\n",
    "    'n_estimators': [5, 10],\n",
    "    'criterion': [\"gini\", \"entropy\"],\n",
    "    'max_depth':[10, 20, None],\n",
    "    'min_samples_split': [500, 1000, 1500],\n",
    "    #'min_samples_leaf': [30, 50, 100],\n",
    "    #'max_features': [5, 10, 25],\n",
    "    #'n_jobs': [-1]\n",
    "}"
   ]
  },
  {
   "cell_type": "code",
   "execution_count": 13,
   "metadata": {},
   "outputs": [
    {
     "name": "stdout",
     "output_type": "stream",
     "text": [
      "Total combination: 36\n",
      "Randomized search size: 10\n",
      "{'criterion': 'entropy', 'max_depth': None, 'min_samples_split': 1000, 'n_estimators': 10}\n",
      "{'criterion': 'entropy', 'max_depth': 20, 'min_samples_split': 1500, 'n_estimators': 5}\n",
      "{'criterion': 'entropy', 'max_depth': 10, 'min_samples_split': 500, 'n_estimators': 10}\n",
      "{'criterion': 'gini', 'max_depth': 10, 'min_samples_split': 1000, 'n_estimators': 5}\n",
      "{'criterion': 'entropy', 'max_depth': None, 'min_samples_split': 1000, 'n_estimators': 5}\n",
      "{'criterion': 'gini', 'max_depth': 10, 'min_samples_split': 500, 'n_estimators': 5}\n",
      "{'criterion': 'entropy', 'max_depth': 10, 'min_samples_split': 1000, 'n_estimators': 10}\n",
      "{'criterion': 'gini', 'max_depth': 20, 'min_samples_split': 500, 'n_estimators': 5}\n",
      "{'criterion': 'entropy', 'max_depth': 20, 'min_samples_split': 1500, 'n_estimators': 5}, FDR: 0.64%, 2 sec elapsed\n",
      "{'criterion': 'gini', 'max_depth': None, 'min_samples_split': 1000, 'n_estimators': 10}\n",
      "{'criterion': 'gini', 'max_depth': 10, 'min_samples_split': 1000, 'n_estimators': 5}, FDR: 0.67%, 3 sec elapsed\n",
      "{'criterion': 'entropy', 'max_depth': None, 'min_samples_split': 1000, 'n_estimators': 5}, FDR: 0.65%, 3 sec elapsed\n",
      "{'criterion': 'gini', 'max_depth': 10, 'min_samples_split': 500, 'n_estimators': 5}, FDR: 0.69%, 3 sec elapsed\n",
      "{'criterion': 'gini', 'max_depth': 20, 'min_samples_split': 500, 'n_estimators': 5}, FDR: 0.68%, 3 sec elapsed\n",
      "{'criterion': 'entropy', 'max_depth': None, 'min_samples_split': 1000, 'n_estimators': 10}, FDR: 0.65%, 4 sec elapsed\n",
      "{'criterion': 'entropy', 'max_depth': 20, 'min_samples_split': 500, 'n_estimators': 10}\n",
      "{'criterion': 'entropy', 'max_depth': 10, 'min_samples_split': 1000, 'n_estimators': 10}, FDR: 0.65%, 3 sec elapsed\n",
      "{'criterion': 'entropy', 'max_depth': 10, 'min_samples_split': 500, 'n_estimators': 10}, FDR: 0.67%, 4 sec elapsed\n",
      "{'criterion': 'gini', 'max_depth': None, 'min_samples_split': 1000, 'n_estimators': 10}, FDR: 0.69%, 3 sec elapsed\n",
      "{'criterion': 'entropy', 'max_depth': 20, 'min_samples_split': 500, 'n_estimators': 10}, FDR: 0.69%, 2 sec elapsed\n",
      "Total time elapsed: 0.1 minutes\n"
     ]
    },
    {
     "data": {
      "text/plain": [
       "(0.6865384615384615,\n",
       " {'criterion': 'entropy',\n",
       "  'max_depth': 20,\n",
       "  'min_samples_split': 500,\n",
       "  'n_estimators': 10})"
      ]
     },
     "execution_count": 13,
     "metadata": {},
     "output_type": "execute_result"
    }
   ],
   "source": [
    "rf=RandomForestClassifier()\n",
    "randomized_search(rf, test_grid, X_mod, y_mod, n_iter=10, n_jobs=-1)"
   ]
  },
  {
   "cell_type": "code",
   "execution_count": 14,
   "metadata": {},
   "outputs": [
    {
     "name": "stdout",
     "output_type": "stream",
     "text": [
      "Total combination: 36\n",
      "Total time elapsed: 0.3 minutes\n"
     ]
    },
    {
     "data": {
      "text/plain": [
       "(0.7176923076923077,\n",
       " {'criterion': 'gini',\n",
       "  'max_depth': 20,\n",
       "  'min_samples_split': 500,\n",
       "  'n_estimators': 10})"
      ]
     },
     "execution_count": 14,
     "metadata": {},
     "output_type": "execute_result"
    }
   ],
   "source": [
    "rf=RandomForestClassifier()\n",
    "grid_search(rf, test_grid, X_mod, y_mod, n_jobs=-1,verbose=False)"
   ]
  },
  {
   "cell_type": "code",
   "execution_count": null,
   "metadata": {},
   "outputs": [],
   "source": []
  }
 ],
 "metadata": {
  "kernelspec": {
   "display_name": "Python 3",
   "language": "python",
   "name": "python3"
  },
  "language_info": {
   "codemirror_mode": {
    "name": "ipython",
    "version": 3
   },
   "file_extension": ".py",
   "mimetype": "text/x-python",
   "name": "python",
   "nbconvert_exporter": "python",
   "pygments_lexer": "ipython3",
   "version": "3.7.2"
  }
 },
 "nbformat": 4,
 "nbformat_minor": 2
}

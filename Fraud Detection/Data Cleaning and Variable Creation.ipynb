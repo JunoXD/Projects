{
 "cells": [
  {
   "cell_type": "code",
   "execution_count": 1,
   "metadata": {},
   "outputs": [],
   "source": [
    "import pandas as pd\n",
    "import numpy as np\n",
    "import scipy.stats as sps\n",
    "import matplotlib.pyplot as plt\n",
    "import math\n",
    "import seaborn as sns\n",
    "import datetime as dt\n",
    "%matplotlib inline\n",
    "start_time = pd.datetime.now()"
   ]
  },
  {
   "cell_type": "code",
   "execution_count": 2,
   "metadata": {},
   "outputs": [],
   "source": [
    "mydata = pd.read_excel('card transactions.xlsx', converters={'Merchnum': lambda x: str(x)})"
   ]
  },
  {
   "cell_type": "code",
   "execution_count": 3,
   "metadata": {},
   "outputs": [
    {
     "data": {
      "text/html": [
       "<div>\n",
       "<style scoped>\n",
       "    .dataframe tbody tr th:only-of-type {\n",
       "        vertical-align: middle;\n",
       "    }\n",
       "\n",
       "    .dataframe tbody tr th {\n",
       "        vertical-align: top;\n",
       "    }\n",
       "\n",
       "    .dataframe thead th {\n",
       "        text-align: right;\n",
       "    }\n",
       "</style>\n",
       "<table border=\"1\" class=\"dataframe\">\n",
       "  <thead>\n",
       "    <tr style=\"text-align: right;\">\n",
       "      <th></th>\n",
       "      <th>Recnum</th>\n",
       "      <th>Cardnum</th>\n",
       "      <th>Date</th>\n",
       "      <th>Merchnum</th>\n",
       "      <th>Merch description</th>\n",
       "      <th>Merch state</th>\n",
       "      <th>Merch zip</th>\n",
       "      <th>Transtype</th>\n",
       "      <th>Amount</th>\n",
       "      <th>Fraud</th>\n",
       "    </tr>\n",
       "  </thead>\n",
       "  <tbody>\n",
       "    <tr>\n",
       "      <th>0</th>\n",
       "      <td>1</td>\n",
       "      <td>5142190439</td>\n",
       "      <td>2010-01-01</td>\n",
       "      <td>5509006296254</td>\n",
       "      <td>FEDEX SHP 12/23/09 AB#</td>\n",
       "      <td>TN</td>\n",
       "      <td>38118.0</td>\n",
       "      <td>P</td>\n",
       "      <td>3.62</td>\n",
       "      <td>0</td>\n",
       "    </tr>\n",
       "    <tr>\n",
       "      <th>1</th>\n",
       "      <td>2</td>\n",
       "      <td>5142183973</td>\n",
       "      <td>2010-01-01</td>\n",
       "      <td>61003026333</td>\n",
       "      <td>SERVICE MERCHANDISE #81</td>\n",
       "      <td>MA</td>\n",
       "      <td>1803.0</td>\n",
       "      <td>P</td>\n",
       "      <td>31.42</td>\n",
       "      <td>0</td>\n",
       "    </tr>\n",
       "    <tr>\n",
       "      <th>2</th>\n",
       "      <td>3</td>\n",
       "      <td>5142131721</td>\n",
       "      <td>2010-01-01</td>\n",
       "      <td>4503082993600</td>\n",
       "      <td>OFFICE DEPOT #191</td>\n",
       "      <td>MD</td>\n",
       "      <td>20706.0</td>\n",
       "      <td>P</td>\n",
       "      <td>178.49</td>\n",
       "      <td>0</td>\n",
       "    </tr>\n",
       "    <tr>\n",
       "      <th>3</th>\n",
       "      <td>4</td>\n",
       "      <td>5142148452</td>\n",
       "      <td>2010-01-01</td>\n",
       "      <td>5509006296254</td>\n",
       "      <td>FEDEX SHP 12/28/09 AB#</td>\n",
       "      <td>TN</td>\n",
       "      <td>38118.0</td>\n",
       "      <td>P</td>\n",
       "      <td>3.62</td>\n",
       "      <td>0</td>\n",
       "    </tr>\n",
       "    <tr>\n",
       "      <th>4</th>\n",
       "      <td>5</td>\n",
       "      <td>5142190439</td>\n",
       "      <td>2010-01-01</td>\n",
       "      <td>5509006296254</td>\n",
       "      <td>FEDEX SHP 12/23/09 AB#</td>\n",
       "      <td>TN</td>\n",
       "      <td>38118.0</td>\n",
       "      <td>P</td>\n",
       "      <td>3.62</td>\n",
       "      <td>0</td>\n",
       "    </tr>\n",
       "  </tbody>\n",
       "</table>\n",
       "</div>"
      ],
      "text/plain": [
       "   Recnum     Cardnum       Date       Merchnum        Merch description  \\\n",
       "0       1  5142190439 2010-01-01  5509006296254   FEDEX SHP 12/23/09 AB#   \n",
       "1       2  5142183973 2010-01-01    61003026333  SERVICE MERCHANDISE #81   \n",
       "2       3  5142131721 2010-01-01  4503082993600        OFFICE DEPOT #191   \n",
       "3       4  5142148452 2010-01-01  5509006296254   FEDEX SHP 12/28/09 AB#   \n",
       "4       5  5142190439 2010-01-01  5509006296254   FEDEX SHP 12/23/09 AB#   \n",
       "\n",
       "  Merch state  Merch zip Transtype  Amount  Fraud  \n",
       "0          TN    38118.0         P    3.62      0  \n",
       "1          MA     1803.0         P   31.42      0  \n",
       "2          MD    20706.0         P  178.49      0  \n",
       "3          TN    38118.0         P    3.62      0  \n",
       "4          TN    38118.0         P    3.62      0  "
      ]
     },
     "execution_count": 3,
     "metadata": {},
     "output_type": "execute_result"
    }
   ],
   "source": [
    "mydata.head()"
   ]
  },
  {
   "cell_type": "code",
   "execution_count": 4,
   "metadata": {},
   "outputs": [],
   "source": [
    "#get the first none-zero digit in a number\n",
    "def first_nonzero_digit(x):\n",
    "    for i in range(len(x)):\n",
    "        if x[i] in ['0', '.', ' ']:\n",
    "            continue\n",
    "        else:\n",
    "            break\n",
    "    return(x[i])"
   ]
  },
  {
   "cell_type": "code",
   "execution_count": 5,
   "metadata": {},
   "outputs": [],
   "source": [
    "#get n_high for each group\n",
    "def n_high(df, num, num_type):\n",
    "    if num_type == 'Cardnum':\n",
    "        tempdf = df[df['Cardnum'] == num]\n",
    "    else:\n",
    "        tempdf = df[df['Merchnum'] == num]\n",
    "    return(len(tempdf[tempdf['Amount_first_digit'] > '2']))"
   ]
  },
  {
   "cell_type": "code",
   "execution_count": 6,
   "metadata": {},
   "outputs": [],
   "source": [
    "#get n_low for each group\n",
    "def n_low(df, num, num_type):\n",
    "    if num_type == 'Cardnum':\n",
    "        tempdf = df[df['Cardnum'] == num]\n",
    "    else:\n",
    "        tempdf = df[df['Merchnum'] == num]\n",
    "    return(len(tempdf[tempdf['Amount_first_digit'] <= '2']))"
   ]
  },
  {
   "cell_type": "code",
   "execution_count": 7,
   "metadata": {},
   "outputs": [],
   "source": [
    "def create_mapping(df):\n",
    "    summary = pd.DataFrame(df[['Merch description', 'Merchnum', 'Recnum']].\\\n",
    "                             groupby(['Merch description','Merchnum']).count()['Recnum'].reset_index(name = 'Count'))\n",
    "    return summary"
   ]
  },
  {
   "cell_type": "code",
   "execution_count": 8,
   "metadata": {},
   "outputs": [],
   "source": [
    "def fill_merch_num(merch_description):\n",
    "    temp_df = summary[(summary['Merch description'] == merch_description)].sort_values(by = \"Count\", ascending = False)\n",
    "    \n",
    "    if temp_df.shape[0] > 0:\n",
    "        num = list(temp_df[\"Merchnum\"])[0]\n",
    "        return(num)"
   ]
  },
  {
   "cell_type": "markdown",
   "metadata": {},
   "source": [
    "# Data Cleaning"
   ]
  },
  {
   "cell_type": "code",
   "execution_count": 9,
   "metadata": {},
   "outputs": [
    {
     "data": {
      "text/plain": [
       "96752"
      ]
     },
     "execution_count": 9,
     "metadata": {},
     "output_type": "execute_result"
    }
   ],
   "source": [
    "#remove one outlier in the dataset\n",
    "mydata = mydata.drop(index = 52714)\n",
    "len(mydata)"
   ]
  },
  {
   "cell_type": "code",
   "execution_count": 10,
   "metadata": {},
   "outputs": [
    {
     "data": {
      "text/plain": [
       "96397"
      ]
     },
     "execution_count": 10,
     "metadata": {},
     "output_type": "execute_result"
    }
   ],
   "source": [
    "#exclude non-purchase transaction types\n",
    "mydata = mydata[mydata[\"Transtype\"] == \"P\"].reset_index(drop = True)\n",
    "len(mydata)"
   ]
  },
  {
   "cell_type": "code",
   "execution_count": 11,
   "metadata": {},
   "outputs": [],
   "source": [
    "#fill in missing values for merchant number with the mode of descriptions\n",
    "##replace all 0s with Null values\n",
    "mydata[\"Merchnum\"] = mydata[\"Merchnum\"].apply(lambda x: None if x == \"0\" else x)\n",
    "\n",
    "summary = create_mapping(mydata)\n",
    "null_num = mydata.loc[mydata[\"Merchnum\"].isnull(),['Merch description']]\n",
    "for index in null_num.index:\n",
    "    mydata.loc[index, \"Merchnum\"] = fill_merch_num(mydata.loc[index, \"Merch description\"])"
   ]
  },
  {
   "cell_type": "code",
   "execution_count": 12,
   "metadata": {},
   "outputs": [],
   "source": [
    "#fill in the remaining missing values for merchant number\n",
    "merchnum_missing = list(mydata[mydata[\"Merchnum\"].isnull() == True].index)\n",
    "for index in merchnum_missing:\n",
    "     mydata.loc[index, \"Merchnum\"] = -index"
   ]
  },
  {
   "cell_type": "code",
   "execution_count": 13,
   "metadata": {},
   "outputs": [],
   "source": [
    "#fill in missing values for merchant zip\n",
    "zip_missing = list(mydata[mydata[\"Merch zip\"].isnull() == True].index)\n",
    "for index in zip_missing:\n",
    "     mydata.loc[index, \"Merch zip\"] = -index"
   ]
  },
  {
   "cell_type": "code",
   "execution_count": 14,
   "metadata": {},
   "outputs": [],
   "source": [
    "#fill in missing values for merchant state\n",
    "state_missing = list(mydata[mydata[\"Merch state\"].isnull() == True].index)\n",
    "for index in state_missing:\n",
    "     mydata.loc[index, \"Merch state\"] = -index"
   ]
  },
  {
   "cell_type": "code",
   "execution_count": 15,
   "metadata": {},
   "outputs": [],
   "source": [
    "#fix frivolous values\n",
    "mydata['Merch zip'] = mydata['Merch zip'].astype(str)\n",
    "mydata['Cardnum'] = mydata['Cardnum'].astype(str)\n",
    "mydata['Merchnum'] = mydata['Merchnum'].astype(str)\n",
    "mydata[\"Merch state\"] = mydata[\"Merch state\"].astype(str)\n",
    "mydata['Amount'] = mydata['Amount'].astype(float)"
   ]
  },
  {
   "cell_type": "markdown",
   "metadata": {},
   "source": [
    "## Variable Creation"
   ]
  },
  {
   "cell_type": "code",
   "execution_count": 16,
   "metadata": {},
   "outputs": [],
   "source": [
    "#combine related fields\n",
    "mydata[\"Cardnum-Merch\"] = mydata[\"Cardnum\"] + mydata[\"Merchnum\"]\n",
    "mydata[\"Cardnum-Zip\"] = mydata[\"Cardnum\"] + mydata[\"Merch zip\"]\n",
    "mydata[\"Cardnum-State\"] = mydata[\"Cardnum\"] + mydata[\"Merch state\"]"
   ]
  },
  {
   "cell_type": "code",
   "execution_count": 17,
   "metadata": {},
   "outputs": [
    {
     "data": {
      "text/plain": [
       "['Cardnum', 'Merchnum', 'Cardnum-Merch', 'Cardnum-Zip', 'Cardnum-State']"
      ]
     },
     "execution_count": 17,
     "metadata": {},
     "output_type": "execute_result"
    }
   ],
   "source": [
    "#keep useful fields for variable creation\n",
    "attributes = list(mydata.columns)\n",
    "for col in ['Recnum', 'Date', 'Amount', 'Merch description', 'Merch state', 'Merch zip', 'Transtype', 'Fraud']:\n",
    "    attributes.remove(col)\n",
    "attributes"
   ]
  },
  {
   "cell_type": "code",
   "execution_count": 18,
   "metadata": {},
   "outputs": [],
   "source": [
    "finalDF = mydata[['Recnum','Date','Amount']]\n",
    "\n",
    "for val in attributes:\n",
    "    df1 = mydata[['Recnum','Date', 'Amount', val]].copy()\n",
    "    df2 = df1.copy()\n",
    "    lags = [0, 1, 3, 7, 14, 30]\n",
    "    \n",
    "    for lag in lags:\n",
    "        temp_name = 'Date_{}'.format(lag)\n",
    "        df2[temp_name] = df2['Date'] + dt.timedelta(lag)\n",
    "\n",
    "    dff = df1.merge(df2, on = val)\n",
    "    \n",
    "    #create #days_since variables\n",
    "    tmp = dff[(dff['Recnum_x'] > dff['Recnum_y'])][['Recnum_x','Date_y']].\\\n",
    "          groupby('Recnum_x').last()['Date_y'].reset_index()\n",
    "    \n",
    "    tmp.columns = ['Recnum','last_seen']\n",
    "    df1 = df1.merge(tmp, how = 'left', on = 'Recnum')\n",
    "    df1['#days_since'] = df1['Date'] - df1['last_seen']\n",
    "    df1['#days_since'] = df1['#days_since'].dt.days\n",
    "    df1['#days_since_start'] = (df1['Date'] - df1['Date'].min()).dt.days\n",
    "    df1['#days_since'] = df1['#days_since'].fillna(df1['#days_since_start'])\n",
    "    \n",
    "    df1.drop(columns = ['last_seen','#days_since_start'], inplace = True)\n",
    "    \n",
    "    #create amount and frequency variables\n",
    "    for lag in lags:\n",
    "        temp = dff[(dff['Recnum_x'] >= dff['Recnum_y']) & (dff['Date_x'] <= dff['Date_{}'.format(lag)])]\n",
    "        temp_agg = temp[['Recnum_x','Amount_y']].groupby('Recnum_x').agg(['count', 'mean', 'max', 'median', 'sum']).reset_index()\n",
    "        temp_name = ['lag{}_count'.format(lag), 'lag{}_average'.format(lag), 'lag{}_max'.format(lag), 'lag{}_median'.format(lag), 'lag{}_total'.format(lag)]\n",
    "        temp_agg.columns = ['Recnum'] + temp_name\n",
    "        \n",
    "        temp_agg['lag{}_actual/avg'.format(lag)] = mydata[\"Amount\"]/temp_agg['lag{}_average'.format(lag)]\n",
    "        temp_agg['lag{}_actual/max'.format(lag)] = mydata[\"Amount\"]/temp_agg['lag{}_max'.format(lag)]\n",
    "        temp_agg['lag{}_actual/median'.format(lag)] = mydata[\"Amount\"]/temp_agg['lag{}_median'.format(lag)]\n",
    "        temp_agg['lag{}_actual/total'.format(lag)] = mydata[\"Amount\"]/temp_agg['lag{}_total'.format(lag)]\n",
    "        \n",
    "        df1 = df1.merge(temp_agg, how = 'left', on = 'Recnum')\n",
    "        \n",
    "    df1.drop(columns = ['Date', val], inplace = True)\n",
    "    df1 = df1.set_index('Recnum')\n",
    "    df1 = df1.add_prefix('{}_'.format(val))\n",
    "    finalDF = finalDF.merge(df1, how = 'left', on = 'Recnum')\n",
    "    finalDF.drop(labels = \"{}_Amount\".format(val), axis = 1, inplace = True)\n",
    "    "
   ]
  },
  {
   "cell_type": "code",
   "execution_count": 19,
   "metadata": {},
   "outputs": [],
   "source": [
    "#create velocity variables for counts\n",
    "core = ['Cardnum', 'Merchnum']\n",
    "for val in core:\n",
    "    for i in [0, 1]:\n",
    "        for j in [7, 14, 30]:\n",
    "            temp_name = '{}_lag{}_lag{}_avg_count'.format(val,i,j)\n",
    "            numerator = '{}_lag{}_count'.format(val,i)\n",
    "            denominator = '{}_lag{}_count'.format(val,j)\n",
    "            finalDF[temp_name] = finalDF[numerator] / (finalDF[denominator]/j)"
   ]
  },
  {
   "cell_type": "code",
   "execution_count": 20,
   "metadata": {},
   "outputs": [],
   "source": [
    "#create velocity variables for amount\n",
    "for val in core:\n",
    "    for i in [0, 1]:\n",
    "        for j in [7, 14, 30]:\n",
    "            temp_name = '{}_lag{}_lag{}_avg_amount'.format(val,i,j)\n",
    "            numerator = '{}_lag{}_total'.format(val,i)\n",
    "            denominator = '{}_lag{}_total'.format(val,j)\n",
    "            finalDF[temp_name] = finalDF[numerator] / (finalDF[denominator]/j)"
   ]
  },
  {
   "cell_type": "code",
   "execution_count": 21,
   "metadata": {},
   "outputs": [],
   "source": [
    "#create weekday risk variable\n",
    "finalDF[\"weekday\"] = finalDF[\"Date\"].dt.dayofweek\n",
    "finalDF = finalDF.merge(mydata[[\"Recnum\", \"Fraud\"]])"
   ]
  },
  {
   "cell_type": "code",
   "execution_count": 22,
   "metadata": {},
   "outputs": [],
   "source": [
    "#calculate weekday fraud\n",
    "c = 3\n",
    "nmid = 15\n",
    "y_avg = finalDF[\"Fraud\"].mean()\n",
    "y_weekday_avg = finalDF.groupby(\"weekday\").mean()[\"Fraud\"]\n",
    "num_instances_weekday = finalDF.groupby(\"weekday\").size()\n",
    "y_weekday_smooth = y_avg + (y_weekday_avg - y_avg)/(1 + np.exp(-(num_instances_weekday-nmid)/c))\n",
    "finalDF[\"weekday_risk\"] = finalDF[\"weekday\"].map(y_weekday_smooth)"
   ]
  },
  {
   "cell_type": "code",
   "execution_count": 23,
   "metadata": {},
   "outputs": [
    {
     "data": {
      "image/png": "[encoded data removed]",
      "text/plain": [
       "<Figure size 720x360 with 1 Axes>"
      ]
     },
     "metadata": {
      "needs_background": "light"
     },
     "output_type": "display_data"
    }
   ],
   "source": [
    "#plot weekday risks\n",
    "plt.figure(figsize=(10,5))\n",
    "y_weekday_smooth.plot(kind = 'bar')\n",
    "plt.xticks(range(7),\n",
    "           ['Monday','Tuesday','Wednesday','Thursday','Friday','Saturday','Sunday'],\n",
    "           rotation=60)\n",
    "plt.axhline(y_avg, color='r', linestyle='--')\n",
    "plt.xlabel('Weekdays')\n",
    "plt.ylabel('Percentage')\n",
    "plt.title('Fraud Proportion of Each Weekday')\n",
    "plt.legend(['Average fraud proportion'])\n",
    "plt.show()"
   ]
  },
  {
   "cell_type": "markdown",
   "metadata": {},
   "source": [
    "## Remove All Transactions From Fedex"
   ]
  },
  {
   "cell_type": "code",
   "execution_count": 24,
   "metadata": {},
   "outputs": [],
   "source": [
    "mydata['Merch description'] = mydata['Merch description'].apply(lambda x: x.lower())"
   ]
  },
  {
   "cell_type": "code",
   "execution_count": 25,
   "metadata": {},
   "outputs": [],
   "source": [
    "mydata_copy = mydata.copy()\n",
    "mydata_copy['result'] = mydata_copy['Merch description'].str.findall(r'fed')\n",
    "mydata_copy['result'] = mydata_copy['result'].apply(lambda x: \"null\" if x == [] else x)\n",
    "fed_result = mydata_copy[mydata_copy['result'] != \"null\"].groupby(\"Merch description\")['Recnum'] \\\n",
    "                                                         .count() \\\n",
    "                                                         .reset_index(name = 'count') \\\n",
    "                                                         .sort_values(['count'], ascending = False)"
   ]
  },
  {
   "cell_type": "code",
   "execution_count": 26,
   "metadata": {},
   "outputs": [],
   "source": [
    "#extract all \"fedex shp|fedex|federal express\" related records\n",
    "fed_result['flag'] = fed_result['Merch description'].str.findall(r'\\bfedex\\b|\\bfederal express\\b|\\bfed ex #16\\b')\n",
    "fed_result['flag'] = fed_result['flag'].apply(lambda x: 0 if x == [] else 1)\n",
    "\n",
    "fedex_namelist = fed_result[fed_result['flag'] == 1]['Merch description'].values.tolist()\n",
    "#add 'fedex danger gds seminar' back since it is not related to fed ex\n",
    "fedex_namelist.remove('fedex danger gds seminar')"
   ]
  },
  {
   "cell_type": "code",
   "execution_count": 27,
   "metadata": {},
   "outputs": [
    {
     "data": {
      "text/plain": [
       "84581"
      ]
     },
     "execution_count": 27,
     "metadata": {},
     "output_type": "execute_result"
    }
   ],
   "source": [
    "#get rid of all fedex records in the dataset\n",
    "mydata_copy['Merch description'] = mydata_copy['Merch description'].apply(lambda x: 1 if x in fedex_namelist else x)\n",
    "mydata_copy = mydata_copy[mydata_copy['Merch description'] != 1]\n",
    "len(mydata_copy)"
   ]
  },
  {
   "cell_type": "markdown",
   "metadata": {},
   "source": [
    "## Benford's Law Variables"
   ]
  },
  {
   "cell_type": "code",
   "execution_count": 28,
   "metadata": {},
   "outputs": [],
   "source": [
    "#get storing the first digits of card number and merchant number\n",
    "mydata_copy['Amount'] = mydata_copy['Amount'].astype(str)\n",
    "mydata_copy['Amount_first_digit'] = mydata_copy['Amount']\n",
    "mydata_copy['Amount_first_digit'] = mydata_copy['Amount_first_digit'].apply(lambda x: first_nonzero_digit(x))"
   ]
  },
  {
   "cell_type": "code",
   "execution_count": 29,
   "metadata": {},
   "outputs": [],
   "source": [
    "benford_data = mydata_copy.copy()"
   ]
  },
  {
   "cell_type": "code",
   "execution_count": 30,
   "metadata": {},
   "outputs": [],
   "source": [
    "#Cardnum table\n",
    "card_table = benford_data.groupby([\"Cardnum\"])[\"Recnum\"].count().reset_index(name = \"n\")"
   ]
  },
  {
   "cell_type": "code",
   "execution_count": 31,
   "metadata": {},
   "outputs": [],
   "source": [
    "#for each card number group, calculate nhigh and nlow\n",
    "card_table['n_high'] = [0]*len(card_table)\n",
    "card_table['n_low'] = [0]*len(card_table)\n",
    "\n",
    "for i in range(len(card_table)):\n",
    "    card_table.loc[i, 'n_high'] = n_high(benford_data, card_table.loc[i, 'Cardnum'], 'Cardnum')\n",
    "    card_table.loc[i, 'n_low'] = n_low(benford_data, card_table.loc[i, 'Cardnum'], 'Cardnum')"
   ]
  },
  {
   "cell_type": "code",
   "execution_count": 32,
   "metadata": {},
   "outputs": [],
   "source": [
    "#get rid of 0 values\n",
    "card_table[\"n_high\"] = card_table[\"n_high\"].apply(lambda x: 1 if x == 0 else x)\n",
    "card_table[\"n_low\"] = card_table[\"n_low\"].apply(lambda x: 1 if x == 0 else x)"
   ]
  },
  {
   "cell_type": "code",
   "execution_count": 33,
   "metadata": {},
   "outputs": [],
   "source": [
    "#create R and 1/R\n",
    "card_table[\"R\"] = 1.096*card_table['n_low']/card_table['n_high']\n",
    "card_table[\"1/R\"] = 1/card_table[\"R\"]"
   ]
  },
  {
   "cell_type": "code",
   "execution_count": 34,
   "metadata": {},
   "outputs": [],
   "source": [
    "#calculate t\n",
    "card_table['t'] = [0]*len(card_table)\n",
    "\n",
    "for i in range(len(card_table)):\n",
    "    card_table.loc[i, 't'] = -(15 - card_table.loc[i, \"n\"])/3"
   ]
  },
  {
   "cell_type": "code",
   "execution_count": 35,
   "metadata": {},
   "outputs": [
    {
     "data": {
      "text/html": [
       "<div>\n",
       "<style scoped>\n",
       "    .dataframe tbody tr th:only-of-type {\n",
       "        vertical-align: middle;\n",
       "    }\n",
       "\n",
       "    .dataframe tbody tr th {\n",
       "        vertical-align: top;\n",
       "    }\n",
       "\n",
       "    .dataframe thead th {\n",
       "        text-align: right;\n",
       "    }\n",
       "</style>\n",
       "<table border=\"1\" class=\"dataframe\">\n",
       "  <thead>\n",
       "    <tr style=\"text-align: right;\">\n",
       "      <th></th>\n",
       "      <th>Cardnum</th>\n",
       "      <th>n</th>\n",
       "      <th>n_high</th>\n",
       "      <th>n_low</th>\n",
       "      <th>R</th>\n",
       "      <th>1/R</th>\n",
       "      <th>t</th>\n",
       "      <th>U</th>\n",
       "      <th>U*</th>\n",
       "    </tr>\n",
       "  </thead>\n",
       "  <tbody>\n",
       "    <tr>\n",
       "      <th>1177</th>\n",
       "      <td>5142253356</td>\n",
       "      <td>66</td>\n",
       "      <td>5</td>\n",
       "      <td>61</td>\n",
       "      <td>13.371200</td>\n",
       "      <td>0.074788</td>\n",
       "      <td>17.000000</td>\n",
       "      <td>13.371200</td>\n",
       "      <td>13.371199</td>\n",
       "    </tr>\n",
       "    <tr>\n",
       "      <th>1541</th>\n",
       "      <td>5142299705</td>\n",
       "      <td>28</td>\n",
       "      <td>3</td>\n",
       "      <td>25</td>\n",
       "      <td>9.133333</td>\n",
       "      <td>0.109489</td>\n",
       "      <td>4.333333</td>\n",
       "      <td>9.133333</td>\n",
       "      <td>9.027976</td>\n",
       "    </tr>\n",
       "    <tr>\n",
       "      <th>725</th>\n",
       "      <td>5142197563</td>\n",
       "      <td>149</td>\n",
       "      <td>134</td>\n",
       "      <td>15</td>\n",
       "      <td>0.122687</td>\n",
       "      <td>8.150852</td>\n",
       "      <td>44.666667</td>\n",
       "      <td>8.150852</td>\n",
       "      <td>8.150852</td>\n",
       "    </tr>\n",
       "    <tr>\n",
       "      <th>697</th>\n",
       "      <td>5142194617</td>\n",
       "      <td>38</td>\n",
       "      <td>33</td>\n",
       "      <td>5</td>\n",
       "      <td>0.166061</td>\n",
       "      <td>6.021898</td>\n",
       "      <td>7.666667</td>\n",
       "      <td>6.021898</td>\n",
       "      <td>6.019548</td>\n",
       "    </tr>\n",
       "    <tr>\n",
       "      <th>1449</th>\n",
       "      <td>5142288241</td>\n",
       "      <td>14</td>\n",
       "      <td>13</td>\n",
       "      <td>1</td>\n",
       "      <td>0.084308</td>\n",
       "      <td>11.861314</td>\n",
       "      <td>-0.333333</td>\n",
       "      <td>11.861314</td>\n",
       "      <td>5.533836</td>\n",
       "    </tr>\n",
       "  </tbody>\n",
       "</table>\n",
       "</div>"
      ],
      "text/plain": [
       "         Cardnum    n  n_high  n_low          R        1/R          t  \\\n",
       "1177  5142253356   66       5     61  13.371200   0.074788  17.000000   \n",
       "1541  5142299705   28       3     25   9.133333   0.109489   4.333333   \n",
       "725   5142197563  149     134     15   0.122687   8.150852  44.666667   \n",
       "697   5142194617   38      33      5   0.166061   6.021898   7.666667   \n",
       "1449  5142288241   14      13      1   0.084308  11.861314  -0.333333   \n",
       "\n",
       "              U         U*  \n",
       "1177  13.371200  13.371199  \n",
       "1541   9.133333   9.027976  \n",
       "725    8.150852   8.150852  \n",
       "697    6.021898   6.019548  \n",
       "1449  11.861314   5.533836  "
      ]
     },
     "execution_count": 35,
     "metadata": {},
     "output_type": "execute_result"
    }
   ],
   "source": [
    "#calculate U and U*\n",
    "card_table['U'] = [0]*len(card_table)\n",
    "card_table['U*'] = [0]*len(card_table)\n",
    "\n",
    "for i in range(len(card_table)):\n",
    "    card_table.loc[i, \"U\"] = max(card_table.loc[i, \"R\"], card_table.loc[i, \"1/R\"])\n",
    "    card_table.loc[i, \"U*\"] = 1 + (card_table.loc[i, \"U\"] - 1)/(1 + math.exp((15 - card_table.loc[i, \"n\"])/3))\n",
    "\n",
    "card_table.sort_values(by = 'U*', ascending = False, inplace = True)\n",
    "card_table.head()"
   ]
  },
  {
   "cell_type": "code",
   "execution_count": 36,
   "metadata": {},
   "outputs": [],
   "source": [
    "#Merchnum table\n",
    "merch_table = benford_data.groupby([\"Merchnum\"])[\"Recnum\"].count().reset_index(name = \"n\")"
   ]
  },
  {
   "cell_type": "code",
   "execution_count": 37,
   "metadata": {},
   "outputs": [],
   "source": [
    "#for each merchant number group, calculate nhigh and nlow\n",
    "merch_table['n_high'] = [0]*len(merch_table)\n",
    "merch_table['n_low'] = [0]*len(merch_table)\n",
    "\n",
    "for i in range(len(merch_table)):\n",
    "    merch_table.loc[i, 'n_high'] = n_high(benford_data, merch_table.loc[i, 'Merchnum'], 'Merchnum')\n",
    "    merch_table.loc[i, 'n_low'] = n_low(benford_data, merch_table.loc[i, 'Merchnum'], 'Merchnum')"
   ]
  },
  {
   "cell_type": "code",
   "execution_count": 38,
   "metadata": {},
   "outputs": [],
   "source": [
    "#get rid of 0 values\n",
    "merch_table[\"n_high\"] = merch_table[\"n_high\"].apply(lambda x: 1 if x == 0 else x)\n",
    "merch_table[\"n_low\"] = merch_table[\"n_low\"].apply(lambda x: 1 if x == 0 else x)"
   ]
  },
  {
   "cell_type": "code",
   "execution_count": 39,
   "metadata": {},
   "outputs": [],
   "source": [
    "#create R and 1/R\n",
    "merch_table[\"R\"] = 1.096*merch_table['n_low']/merch_table['n_high']\n",
    "merch_table[\"1/R\"] = 1/merch_table[\"R\"]"
   ]
  },
  {
   "cell_type": "code",
   "execution_count": 40,
   "metadata": {},
   "outputs": [],
   "source": [
    "#calculate t\n",
    "merch_table['t'] = [0]*len(merch_table)\n",
    "\n",
    "for i in range(len(merch_table)):\n",
    "    merch_table.loc[i, 't'] = -(15 - merch_table.loc[i, \"n\"])/3"
   ]
  },
  {
   "cell_type": "code",
   "execution_count": 41,
   "metadata": {},
   "outputs": [
    {
     "data": {
      "text/html": [
       "<div>\n",
       "<style scoped>\n",
       "    .dataframe tbody tr th:only-of-type {\n",
       "        vertical-align: middle;\n",
       "    }\n",
       "\n",
       "    .dataframe tbody tr th {\n",
       "        vertical-align: top;\n",
       "    }\n",
       "\n",
       "    .dataframe thead th {\n",
       "        text-align: right;\n",
       "    }\n",
       "</style>\n",
       "<table border=\"1\" class=\"dataframe\">\n",
       "  <thead>\n",
       "    <tr style=\"text-align: right;\">\n",
       "      <th></th>\n",
       "      <th>Merchnum</th>\n",
       "      <th>n</th>\n",
       "      <th>n_high</th>\n",
       "      <th>n_low</th>\n",
       "      <th>R</th>\n",
       "      <th>1/R</th>\n",
       "      <th>t</th>\n",
       "      <th>U</th>\n",
       "      <th>U*</th>\n",
       "    </tr>\n",
       "  </thead>\n",
       "  <tbody>\n",
       "    <tr>\n",
       "      <th>14918</th>\n",
       "      <td>991808369338</td>\n",
       "      <td>181</td>\n",
       "      <td>181</td>\n",
       "      <td>1</td>\n",
       "      <td>0.006055</td>\n",
       "      <td>165.145985</td>\n",
       "      <td>55.333333</td>\n",
       "      <td>165.145985</td>\n",
       "      <td>165.145985</td>\n",
       "    </tr>\n",
       "    <tr>\n",
       "      <th>11907</th>\n",
       "      <td>8078200641472</td>\n",
       "      <td>60</td>\n",
       "      <td>1</td>\n",
       "      <td>59</td>\n",
       "      <td>64.664000</td>\n",
       "      <td>0.015465</td>\n",
       "      <td>15.000000</td>\n",
       "      <td>64.664000</td>\n",
       "      <td>64.663981</td>\n",
       "    </tr>\n",
       "    <tr>\n",
       "      <th>4042</th>\n",
       "      <td>308904389335</td>\n",
       "      <td>53</td>\n",
       "      <td>53</td>\n",
       "      <td>1</td>\n",
       "      <td>0.020679</td>\n",
       "      <td>48.357664</td>\n",
       "      <td>12.666667</td>\n",
       "      <td>48.357664</td>\n",
       "      <td>48.357515</td>\n",
       "    </tr>\n",
       "    <tr>\n",
       "      <th>4441</th>\n",
       "      <td>3523000628102</td>\n",
       "      <td>34</td>\n",
       "      <td>1</td>\n",
       "      <td>34</td>\n",
       "      <td>37.264000</td>\n",
       "      <td>0.026836</td>\n",
       "      <td>6.333333</td>\n",
       "      <td>37.264000</td>\n",
       "      <td>37.199706</td>\n",
       "    </tr>\n",
       "    <tr>\n",
       "      <th>12001</th>\n",
       "      <td>808998385332</td>\n",
       "      <td>37</td>\n",
       "      <td>36</td>\n",
       "      <td>1</td>\n",
       "      <td>0.030444</td>\n",
       "      <td>32.846715</td>\n",
       "      <td>7.333333</td>\n",
       "      <td>32.846715</td>\n",
       "      <td>32.825921</td>\n",
       "    </tr>\n",
       "  </tbody>\n",
       "</table>\n",
       "</div>"
      ],
      "text/plain": [
       "            Merchnum    n  n_high  n_low          R         1/R          t  \\\n",
       "14918   991808369338  181     181      1   0.006055  165.145985  55.333333   \n",
       "11907  8078200641472   60       1     59  64.664000    0.015465  15.000000   \n",
       "4042    308904389335   53      53      1   0.020679   48.357664  12.666667   \n",
       "4441   3523000628102   34       1     34  37.264000    0.026836   6.333333   \n",
       "12001   808998385332   37      36      1   0.030444   32.846715   7.333333   \n",
       "\n",
       "                U          U*  \n",
       "14918  165.145985  165.145985  \n",
       "11907   64.664000   64.663981  \n",
       "4042    48.357664   48.357515  \n",
       "4441    37.264000   37.199706  \n",
       "12001   32.846715   32.825921  "
      ]
     },
     "execution_count": 41,
     "metadata": {},
     "output_type": "execute_result"
    }
   ],
   "source": [
    "#calculate U and U*\n",
    "merch_table['U'] = [0]*len(merch_table)\n",
    "merch_table['U*'] = [0]*len(merch_table)\n",
    "\n",
    "for i in range(len(merch_table)):\n",
    "    merch_table.loc[i, \"U\"] = max(merch_table.loc[i, \"R\"], merch_table.loc[i, \"1/R\"])\n",
    "    merch_table.loc[i, \"U*\"] = 1 + (merch_table.loc[i, \"U\"] - 1)/(1 + math.exp((15 - merch_table.loc[i, \"n\"])/3))\n",
    "\n",
    "merch_table.sort_values(by = 'U*', ascending = False, inplace = True)\n",
    "merch_table.head()"
   ]
  },
  {
   "cell_type": "code",
   "execution_count": 42,
   "metadata": {},
   "outputs": [],
   "source": [
    "#merge benford law's variables\n",
    "finalDF = finalDF.merge(mydata[[\"Recnum\", \"Cardnum\", \"Merchnum\"]])\n",
    "\n",
    "card_table[\"Cardnum_U*\"] = card_table[\"U*\"]\n",
    "card_table = card_table[[\"Cardnum\", \"Cardnum_U*\"]]\n",
    "card_table[\"Cardnum\"] = card_table[\"Cardnum\"].astype(str)\n",
    "finalDF = finalDF.merge(card_table, how = \"left\", on = \"Cardnum\")\n",
    "\n",
    "merch_table[\"Merchnum_U*\"] = merch_table[\"U*\"]\n",
    "merch_table = merch_table[[\"Merchnum\", \"Merchnum_U*\"]]\n",
    "merch_table[\"Merchnum\"].astype(str)\n",
    "finalDF = finalDF.merge(merch_table, how = \"left\", on = \"Merchnum\")"
   ]
  },
  {
   "cell_type": "code",
   "execution_count": 43,
   "metadata": {
    "scrolled": true
   },
   "outputs": [],
   "source": [
    "finalDF.drop(labels = [\"Recnum\", \"Date\", \"Amount\", \"weekday\", \\\n",
    "                       \"Fraud\", \"Cardnum\", \"Merchnum\"], axis = 1, inplace = True)"
   ]
  },
  {
   "cell_type": "code",
   "execution_count": 47,
   "metadata": {},
   "outputs": [],
   "source": [
    "#replace all null values in Merchnum_U* and Cardnum_U* columns with 1\n",
    "finalDF = finalDF.fillna(1)"
   ]
  },
  {
   "cell_type": "code",
   "execution_count": 49,
   "metadata": {},
   "outputs": [
    {
     "data": {
      "text/plain": [
       "(96397, 302)"
      ]
     },
     "execution_count": 49,
     "metadata": {},
     "output_type": "execute_result"
    }
   ],
   "source": [
    "finalDF.shape"
   ]
  },
  {
   "cell_type": "code",
   "execution_count": 52,
   "metadata": {},
   "outputs": [],
   "source": [
    "finalDF.describe().transpose().to_excel(\"variables.xlsx\")"
   ]
  },
  {
   "cell_type": "code",
   "execution_count": 46,
   "metadata": {
    "scrolled": true
   },
   "outputs": [
    {
     "name": "stdout",
     "output_type": "stream",
     "text": [
      "Total time is 0:12:03.357280\n"
     ]
    }
   ],
   "source": [
    "print(f\"Total time is {pd.datetime.now() - start_time}\")"
   ]
  }
 ],
 "metadata": {
  "kernelspec": {
   "display_name": "Python 3",
   "language": "python",
   "name": "python3"
  },
  "language_info": {
   "codemirror_mode": {
    "name": "ipython",
    "version": 3
   },
   "file_extension": ".py",
   "mimetype": "text/x-python",
   "name": "python",
   "nbconvert_exporter": "python",
   "pygments_lexer": "ipython3",
   "version": "3.7.3"
  }
 },
 "nbformat": 4,
 "nbformat_minor": 2
}
